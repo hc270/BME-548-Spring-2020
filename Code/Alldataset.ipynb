{
  "nbformat": 4,
  "nbformat_minor": 0,
  "metadata": {
    "colab": {
      "name": "Alldataset.ipynb",
      "provenance": []
    },
    "kernelspec": {
      "name": "python3",
      "display_name": "Python 3"
    }
  },
  "cells": [
    {
      "cell_type": "code",
      "metadata": {
        "id": "YX0c-vHeMXic"
      },
      "source": [
        "import cv2\n",
        "import skimage.io\n",
        "import io\n",
        "import numpy as np\n",
        "import matplotlib.pyplot as plt\n",
        "import tensorflow as tf\n",
        "from PIL import Image, ImageOps\n",
        "import glob\n",
        "import os\n",
        "import tqdm\n",
        "from sklearn.model_selection import StratifiedKFold"
      ],
      "execution_count": 11,
      "outputs": []
    },
    {
      "cell_type": "code",
      "metadata": {
        "colab": {
          "base_uri": "https://localhost:8080/"
        },
        "id": "jox_zQTU_o-H",
        "outputId": "c3f6f290-12ac-46af-a8f2-6076ab7b2ab8"
      },
      "source": [
        "from google.colab import drive\n",
        "drive.mount('/content/drive')"
      ],
      "execution_count": null,
      "outputs": [
        {
          "output_type": "stream",
          "text": [
            "Drive already mounted at /content/drive; to attempt to forcibly remount, call drive.mount(\"/content/drive\", force_remount=True).\n"
          ],
          "name": "stdout"
        }
      ]
    },
    {
      "cell_type": "code",
      "metadata": {
        "colab": {
          "base_uri": "https://localhost:8080/"
        },
        "id": "7Dhxh2w39V_y",
        "outputId": "fd19fb59-892f-4472-f8f8-1a5ef17fa24a"
      },
      "source": [
        "#train.json-test\n",
        "import json\n",
        "for i in range(1, 5):\n",
        "  filepath = \"drive/MyDrive/non-blur-data/data/train\"+str(i)+\".json\"\n",
        "  print(filepath)\n",
        "  dataset = json.load(open(filepath))\n",
        "  if i==1:\n",
        "    x_data = np.array(dataset[\"x_train\"], dtype=np.float32)\n",
        "    y_data = np.array(dataset[\"y_train\"], dtype=np.float32)\n",
        "  else:\n",
        "    x_data = np.concatenate((x_data, np.array(dataset[\"x_train\"], dtype=np.float32)),axis=0)\n",
        "    y_data = np.concatenate((y_data, np.array(dataset[\"y_train\"], dtype=np.float32)),axis=0)\n",
        "for i in range(6, 10):\n",
        "  filepath = \"drive/MyDrive/non-blur-data/data/train\"+str(i)+\".json\"\n",
        "  print(filepath)\n",
        "  dataset = json.load(open(filepath))\n",
        "  x_data = np.concatenate((x_data, np.array(dataset[\"x_train\"], dtype=np.float32)),axis=0)\n",
        "  y_data = np.concatenate((y_data, np.array(dataset[\"y_train\"], dtype=np.float32)),axis=0)\n",
        "for i in range(11, 12):\n",
        "  filepath = \"drive/MyDrive/non-blur-data/data/train\"+str(i)+\".json\"\n",
        "  print(filepath)\n",
        "  dataset = json.load(open(filepath))\n",
        "  x_data = np.concatenate((x_data, np.array(dataset[\"x_train\"], dtype=np.float32)),axis=0)\n",
        "  y_data = np.concatenate((y_data, np.array(dataset[\"y_train\"], dtype=np.float32)),axis=0)\n",
        "print(x_data.shape, y_data.shape)\n",
        "\n",
        "\n"
      ],
      "execution_count": 13,
      "outputs": [
        {
          "output_type": "stream",
          "text": [
            "drive/MyDrive/non-blur-data/data/train1.json\n",
            "drive/MyDrive/non-blur-data/data/train2.json\n",
            "drive/MyDrive/non-blur-data/data/train3.json\n",
            "drive/MyDrive/non-blur-data/data/train4.json\n",
            "drive/MyDrive/non-blur-data/data/train6.json\n",
            "drive/MyDrive/non-blur-data/data/train7.json\n",
            "drive/MyDrive/non-blur-data/data/train8.json\n",
            "drive/MyDrive/non-blur-data/data/train9.json\n",
            "drive/MyDrive/non-blur-data/data/train11.json\n",
            "(24697, 64, 64, 3) (24697,)\n"
          ],
          "name": "stdout"
        }
      ]
    },
    {
      "cell_type": "code",
      "metadata": {
        "colab": {
          "base_uri": "https://localhost:8080/"
        },
        "id": "8Pd9fcJsATdr",
        "outputId": "7bbc39aa-1853-4cb0-8f2e-e1d6ca8876f5"
      },
      "source": [
        "folder = StratifiedKFold(5, shuffle=True)\n",
        "x_indices = np.arange(0, len(x_data))\n",
        "train_indices, val_indices = folder.split(x_indices, y_data).__next__()\n",
        "# shuffling\n",
        "np.random.shuffle(train_indices)\n",
        "\n",
        "x_train = x_data[train_indices]\n",
        "y_train = y_data[train_indices]\n",
        "\n",
        "x_val = x_data[val_indices]\n",
        "y_val = y_data[val_indices]\n",
        "\n",
        "print(x_train.shape, y_train.shape)\n",
        "print(x_val.shape, y_val.shape)\n"
      ],
      "execution_count": 14,
      "outputs": [
        {
          "output_type": "stream",
          "text": [
            "(19757, 64, 64, 3) (19757,)\n",
            "(4940, 64, 64, 3) (4940,)\n"
          ],
          "name": "stdout"
        }
      ]
    },
    {
      "cell_type": "markdown",
      "metadata": {
        "id": "sXTyCgSoCSH_"
      },
      "source": [
        "# **Define** **AlexNET**"
      ]
    },
    {
      "cell_type": "code",
      "metadata": {
        "id": "gNSk2Ha5CO37"
      },
      "source": [
        "# -*- coding: utf-8 -*-\n",
        "\"\"\"Alexnet_CNN.ipynb\n",
        "\n",
        "Automatically generated by Colaboratory.\n",
        "\n",
        "Original file is located at\n",
        "    https://colab.research.google.com/drive/1Qof1q73U_X_Z3HIt8CAk6oBxi110jabU\n",
        "\n",
        "Alexnet CNN\n",
        "\"\"\"\n",
        "\n",
        "import tensorflow as tf\n",
        "import numpy as np\n",
        "import matplotlib.pyplot as plt\n",
        "from PIL import Image, ImageOps\n",
        "import glob\n",
        "import os\n",
        "import tqdm\n",
        "from sklearn.model_selection import StratifiedKFold\n",
        "\n",
        "\n",
        "import keras\n",
        "from keras.models import Sequential\n",
        "from keras.layers import Dense, Activation, Dropout, Flatten, Conv2D, MaxPooling2D\n",
        "from keras.layers.normalization import BatchNormalization\n",
        "import numpy as np\n",
        "\n",
        "class Alexnet(tf.keras.Model):\n",
        "  def __init__(self):\n",
        "    super(Alexnet, self).__init__()\n",
        "    self.input1 = tf.keras.layers.InputLayer(input_shape=(64, 64, 3))\n",
        "    \n",
        "    #Strides of 4 to rdeuce size\n",
        "    self.conv1 = tf.keras.layers.Conv2D(filters=96, kernel_size=(10,10), strides=1, activation='relu')\n",
        "    self.norm1 = BatchNormalization()\n",
        "    self.pool1 = tf.keras.layers.MaxPool2D(pool_size=(3,3), strides=2)\n",
        "    \n",
        "    #make window smaller, set padding to 2 for consistent height/width\n",
        "    self.conv2 = tf.keras.layers.Conv2D(filters=256, kernel_size=(5,5), strides=2, padding='same', activation='relu')\n",
        "    self.norm2 = BatchNormalization()\n",
        "    self.pool2 = tf.keras.layers.MaxPool2D(pool_size=(3,3), strides=2)\n",
        "       \n",
        "    #Thre successive convolutional layer and a smaller convolution window\n",
        "    self.conv3 = tf.keras.layers.Conv2D(filters=384, kernel_size=(3,3), padding='same', activation='relu')\n",
        "    self.norm3 = BatchNormalization()\n",
        "    self.conv4 = tf.keras.layers.Conv2D(filters=384, kernel_size=(3,3), padding='same', activation='relu')\n",
        "    self.norm4 = BatchNormalization()\n",
        "    self.conv5 = tf.keras.layers.Conv2D(filters=384, kernel_size=(3,3), padding='same', activation='relu')\n",
        "    self.norm5 = BatchNormalization()\n",
        "    \n",
        "    #reduce dimensionality\n",
        "    self.pool3 = tf.keras.layers.MaxPool2D(pool_size=(3,3), strides=2)\n",
        "\n",
        "\n",
        "    #Fully Connected Layer\n",
        "    self.flat = tf.keras.layers.Flatten()\n",
        "    self.dense1 = tf.keras.layers.Dense(units=4096, activation='relu')\n",
        "    self.drop1 = tf.keras.layers.Dropout(0.5)\n",
        "    self.dense2 = tf.keras.layers.Dense(units=4096, activation='relu')\n",
        "    self.drop2 = tf.keras.layers.Dropout(0.5)\n",
        "    self.out = tf.keras.layers.Dense(units=10)\n",
        "\n",
        "    #prediction\n",
        "    self.last = tf.keras.layers.Dense(1, activation = 'sigmoid')\n",
        "    \n",
        "  def call(self, input):\n",
        "    x = self.input1(input)\n",
        "    x = self.conv1(x)\n",
        "    x = self.norm1(x)\n",
        "    x = self.pool1(x)\n",
        "    x = self.conv2(x)\n",
        "    x = self.norm2(x)\n",
        "    x = self.pool2(x)\n",
        "    x = self.conv3(x)\n",
        "    x = self.norm3(x)\n",
        "    x = self.conv4(x)\n",
        "    x = self.norm4(x)\n",
        "    x = self.conv5(x)\n",
        "    x = self.norm5(x)\n",
        "    x = self.pool3(x)\n",
        "    x = self.flat(x)\n",
        "    x = self.dense1(x)\n",
        "    x = self.drop1(x)\n",
        "    x = self.dense2(x)\n",
        "    x = self.drop2(x)\n",
        "    x = self.out(x)\n",
        "    x = self.last(x)\n",
        "    return x\n",
        "  \n",
        "model = Alexnet()\n"
      ],
      "execution_count": 15,
      "outputs": []
    },
    {
      "cell_type": "code",
      "metadata": {
        "id": "pbsOAtvqVatS"
      },
      "source": [
        "model.compile(optimizer='adam',  # pick an optimizer\n",
        "              loss='binary_crossentropy',  # pick a loss\n",
        "              metrics=['accuracy'])  # pick a metric to monitor"
      ],
      "execution_count": 16,
      "outputs": []
    },
    {
      "cell_type": "code",
      "metadata": {
        "colab": {
          "base_uri": "https://localhost:8080/"
        },
        "id": "Im4xakdaVd6e",
        "outputId": "22aafe78-d3f1-4023-a961-243150b22cf7"
      },
      "source": [
        "result = model.fit(x_train, y_train, epochs=13, batch_size=32, validation_data=(x_val, y_val))"
      ],
      "execution_count": 17,
      "outputs": [
        {
          "output_type": "stream",
          "text": [
            "Epoch 1/13\n",
            "618/618 [==============================] - 1240s 2s/step - loss: 0.9151 - accuracy: 0.7579 - val_loss: 0.8012 - val_accuracy: 0.7032\n",
            "Epoch 2/13\n",
            "618/618 [==============================] - 1238s 2s/step - loss: 0.3552 - accuracy: 0.8615 - val_loss: 0.2307 - val_accuracy: 0.9101\n",
            "Epoch 3/13\n",
            "618/618 [==============================] - 1232s 2s/step - loss: 0.2702 - accuracy: 0.8919 - val_loss: 10.2039 - val_accuracy: 0.5267\n",
            "Epoch 4/13\n",
            "618/618 [==============================] - 1160s 2s/step - loss: 0.2999 - accuracy: 0.9002 - val_loss: 0.2113 - val_accuracy: 0.9158\n",
            "Epoch 5/13\n",
            "618/618 [==============================] - 1165s 2s/step - loss: 0.1788 - accuracy: 0.9337 - val_loss: 0.5592 - val_accuracy: 0.7775\n",
            "Epoch 6/13\n",
            "618/618 [==============================] - 1165s 2s/step - loss: 0.1813 - accuracy: 0.9378 - val_loss: 0.5884 - val_accuracy: 0.8130\n",
            "Epoch 7/13\n",
            "618/618 [==============================] - 1161s 2s/step - loss: 0.1418 - accuracy: 0.9502 - val_loss: 0.1406 - val_accuracy: 0.9449\n",
            "Epoch 8/13\n",
            "618/618 [==============================] - 1164s 2s/step - loss: 0.1160 - accuracy: 0.9607 - val_loss: 1.8665 - val_accuracy: 0.6737\n",
            "Epoch 9/13\n",
            "618/618 [==============================] - 1165s 2s/step - loss: 0.0985 - accuracy: 0.9675 - val_loss: 0.1192 - val_accuracy: 0.9595\n",
            "Epoch 10/13\n",
            "618/618 [==============================] - 1231s 2s/step - loss: 0.0998 - accuracy: 0.9679 - val_loss: 0.1657 - val_accuracy: 0.9429\n",
            "Epoch 11/13\n",
            "618/618 [==============================] - 1242s 2s/step - loss: 0.0852 - accuracy: 0.9712 - val_loss: 0.1926 - val_accuracy: 0.9368\n",
            "Epoch 12/13\n",
            "618/618 [==============================] - 1238s 2s/step - loss: 0.0660 - accuracy: 0.9786 - val_loss: 0.0776 - val_accuracy: 0.9749\n",
            "Epoch 13/13\n",
            "618/618 [==============================] - 1241s 2s/step - loss: 0.0585 - accuracy: 0.9805 - val_loss: 0.1814 - val_accuracy: 0.9358\n"
          ],
          "name": "stdout"
        }
      ]
    },
    {
      "cell_type": "code",
      "metadata": {
        "colab": {
          "base_uri": "https://localhost:8080/"
        },
        "id": "ZLWDblEOxwsj",
        "outputId": "e2877d49-d948-4146-ad5f-51895a74e7bc"
      },
      "source": [
        "model.save('drive/MyDrive/non-blur-data/non-noise-model.model')"
      ],
      "execution_count": 18,
      "outputs": [
        {
          "output_type": "stream",
          "text": [
            "WARNING:tensorflow:From /usr/local/lib/python3.6/dist-packages/tensorflow/python/training/tracking/tracking.py:111: Model.state_updates (from tensorflow.python.keras.engine.training) is deprecated and will be removed in a future version.\n",
            "Instructions for updating:\n",
            "This property should not be used in TensorFlow 2.0, as updates are applied automatically.\n",
            "WARNING:tensorflow:From /usr/local/lib/python3.6/dist-packages/tensorflow/python/training/tracking/tracking.py:111: Layer.updates (from tensorflow.python.keras.engine.base_layer) is deprecated and will be removed in a future version.\n",
            "Instructions for updating:\n",
            "This property should not be used in TensorFlow 2.0, as updates are applied automatically.\n",
            "INFO:tensorflow:Assets written to: drive/MyDrive/non-blur-data/non-noise-model.model/assets\n"
          ],
          "name": "stdout"
        }
      ]
    },
    {
      "cell_type": "code",
      "metadata": {
        "id": "tus8d7IB5aKP"
      },
      "source": [
        "# model = tf.keras.models.load_model('drive/MyDrive/non-blur-data/non-noise-model.model')\n",
        "# result = model.fit(x_train, y_train, epochs=13, batch_size=32, validation_data=(x_val, y_val))"
      ],
      "execution_count": null,
      "outputs": []
    },
    {
      "cell_type": "code",
      "metadata": {
        "colab": {
          "base_uri": "https://localhost:8080/"
        },
        "id": "EkpqI6zTk5tr",
        "outputId": "2f6b3193-4f71-44b8-8b28-a3c2cd69c187"
      },
      "source": [
        "model.summary()"
      ],
      "execution_count": 19,
      "outputs": [
        {
          "output_type": "stream",
          "text": [
            "Model: \"alexnet\"\n",
            "_________________________________________________________________\n",
            "Layer (type)                 Output Shape              Param #   \n",
            "=================================================================\n",
            "input_1 (InputLayer)         [(None, 64, 64, 3)]       0         \n",
            "_________________________________________________________________\n",
            "conv2d (Conv2D)              multiple                  28896     \n",
            "_________________________________________________________________\n",
            "batch_normalization (BatchNo multiple                  384       \n",
            "_________________________________________________________________\n",
            "max_pooling2d (MaxPooling2D) multiple                  0         \n",
            "_________________________________________________________________\n",
            "conv2d_1 (Conv2D)            multiple                  614656    \n",
            "_________________________________________________________________\n",
            "batch_normalization_1 (Batch multiple                  1024      \n",
            "_________________________________________________________________\n",
            "max_pooling2d_1 (MaxPooling2 multiple                  0         \n",
            "_________________________________________________________________\n",
            "conv2d_2 (Conv2D)            multiple                  885120    \n",
            "_________________________________________________________________\n",
            "batch_normalization_2 (Batch multiple                  1536      \n",
            "_________________________________________________________________\n",
            "conv2d_3 (Conv2D)            multiple                  1327488   \n",
            "_________________________________________________________________\n",
            "batch_normalization_3 (Batch multiple                  1536      \n",
            "_________________________________________________________________\n",
            "conv2d_4 (Conv2D)            multiple                  1327488   \n",
            "_________________________________________________________________\n",
            "batch_normalization_4 (Batch multiple                  1536      \n",
            "_________________________________________________________________\n",
            "max_pooling2d_2 (MaxPooling2 multiple                  0         \n",
            "_________________________________________________________________\n",
            "flatten (Flatten)            multiple                  0         \n",
            "_________________________________________________________________\n",
            "dense (Dense)                multiple                  6295552   \n",
            "_________________________________________________________________\n",
            "dropout (Dropout)            multiple                  0         \n",
            "_________________________________________________________________\n",
            "dense_1 (Dense)              multiple                  16781312  \n",
            "_________________________________________________________________\n",
            "dropout_1 (Dropout)          multiple                  0         \n",
            "_________________________________________________________________\n",
            "dense_2 (Dense)              multiple                  40970     \n",
            "_________________________________________________________________\n",
            "dense_3 (Dense)              multiple                  11        \n",
            "=================================================================\n",
            "Total params: 27,307,509\n",
            "Trainable params: 27,304,501\n",
            "Non-trainable params: 3,008\n",
            "_________________________________________________________________\n"
          ],
          "name": "stdout"
        }
      ]
    },
    {
      "cell_type": "code",
      "metadata": {
        "colab": {
          "base_uri": "https://localhost:8080/",
          "height": 1000
        },
        "id": "MJpheBIlp7e5",
        "outputId": "9bd72778-1c17-4d93-a070-ee5b459ec5a6"
      },
      "source": [
        "plt.figure(1)\n",
        "p1=plt.plot(result.history['loss'],marker = \"o\",color = 'deepskyblue' )\n",
        "plt.legend((p1), (\"training loss\",))\n",
        "plt.title('training loss')\n",
        "plt.ylabel('loss')\n",
        "plt.xlabel('epoch')\n",
        "plt.figure(2)\n",
        "p2=plt.plot(result.history['val_loss'], marker = \"o\", color = 'firebrick')\n",
        "plt.legend((p2),(\"validation loss\",))\n",
        "plt.title('validation loss')\n",
        "plt.ylabel('loss')\n",
        "plt.xlabel('epoch')\n",
        "plt.show()\n",
        "plt.figure(3)\n",
        "p3=plt.plot(result.history['accuracy'],marker = \"o\", color = 'dodgerblue')\n",
        "plt.legend((p3),(\"training accuracy\",))\n",
        "plt.title('training accuracy')\n",
        "plt.ylabel('accuracy')\n",
        "plt.xlabel('epoch')\n",
        "plt.figure(4)\n",
        "p4=plt.plot(result.history['val_accuracy'],marker = \"o\", color = 'maroon')\n",
        "plt.legend((p4),(\"validation accuracy\",))\n",
        "plt.title('validation accuracy')\n",
        "plt.ylabel('accuracy')\n",
        "plt.xlabel('epoch')\n",
        "plt.show()"
      ],
      "execution_count": 20,
      "outputs": [
        {
          "output_type": "display_data",
          "data": {
            "image/png": "[encoded data removed]",
            "text/plain": [
              "<Figure size 432x288 with 1 Axes>"
            ]
          },
          "metadata": {
            "tags": [],
            "needs_background": "light"
          }
        },
        {
          "output_type": "display_data",
          "data": {
            "image/png": "[encoded data removed]",
            "text/plain": [
              "<Figure size 432x288 with 1 Axes>"
            ]
          },
          "metadata": {
            "tags": [],
            "needs_background": "light"
          }
        },
        {
          "output_type": "display_data",
          "data": {
            "image/png": "[encoded data removed]",
            "text/plain": [
              "<Figure size 432x288 with 1 Axes>"
            ]
          },
          "metadata": {
            "tags": [],
            "needs_background": "light"
          }
        },
        {
          "output_type": "display_data",
          "data": {
            "image/png": "[encoded data removed]",
            "text/plain": [
              "<Figure size 432x288 with 1 Axes>"
            ]
          },
          "metadata": {
            "tags": [],
            "needs_background": "light"
          }
        }
      ]
    },
    {
      "cell_type": "code",
      "metadata": {
        "colab": {
          "base_uri": "https://localhost:8080/"
        },
        "id": "EdovLpeYWTwu",
        "outputId": "39c3fe47-3889-4adf-88e2-51e5a5529b01"
      },
      "source": [
        "y_pred = model.predict(x_val, batch_size=2, verbose=1)\n",
        "print(type(y_pred))"
      ],
      "execution_count": 21,
      "outputs": [
        {
          "output_type": "stream",
          "text": [
            "2470/2470 [==============================] - 146s 59ms/step\n",
            "<class 'numpy.ndarray'>\n"
          ],
          "name": "stdout"
        }
      ]
    },
    {
      "cell_type": "code",
      "metadata": {
        "colab": {
          "base_uri": "https://localhost:8080/",
          "height": 295
        },
        "id": "xyzzh4qaWUaL",
        "outputId": "22f46e52-bf65-4dad-8f97-6a709abf643a"
      },
      "source": [
        "from sklearn.metrics import confusion_matrix\n",
        "import seaborn as sns\n",
        "\n",
        "ry_val = []\n",
        "ry_pred = []\n",
        "\n",
        "for tlabel in y_val:\n",
        "  if tlabel>=0.5:\n",
        "    ry_val.append(1)\n",
        "    continue\n",
        "  ry_val.append(0)\n",
        "ry_val = np.array(ry_val)\n",
        "for plabel in y_pred:\n",
        "  if plabel>=0.5:\n",
        "    ry_pred.append(1)\n",
        "    continue\n",
        "  ry_pred.append(0)\n",
        "ry_pred = np.array(ry_pred)\n",
        "\n",
        "classes = list(set(ry_val))\n",
        "classes.sort()\n",
        "confusion = confusion_matrix(ry_pred, ry_val)\n",
        "plt.imshow(confusion, cmap=plt.cm.Blues)\n",
        "indices = range(len(confusion))\n",
        "plt.xticks(indices, classes)\n",
        "plt.yticks(indices, classes)\n",
        "plt.colorbar()\n",
        "plt.xlabel('prediction')\n",
        "plt.ylabel('ground truth')\n",
        "plt.title('confusion matrix (val_data)')\n",
        "for first_index in range(len(confusion)):\n",
        "  for second_index in range(len(confusion[first_index])):\n",
        "    plt.text(first_index, second_index, confusion[first_index][second_index])\n",
        "\n",
        "plt.show()"
      ],
      "execution_count": 22,
      "outputs": [
        {
          "output_type": "display_data",
          "data": {
            "image/png": "[encoded data removed]",
            "text/plain": [
              "<Figure size 432x288 with 2 Axes>"
            ]
          },
          "metadata": {
            "tags": [],
            "needs_background": "light"
          }
        }
      ]
    },
    {
      "cell_type": "code",
      "metadata": {
        "colab": {
          "base_uri": "https://localhost:8080/"
        },
        "id": "eut6my0WFEws",
        "outputId": "f75736a9-4956-477a-83c1-333ef909f546"
      },
      "source": [
        "filepath = \"drive/MyDrive/non-blur-data/data/train.json\"\n",
        "print(filepath)\n",
        "dataset = json.load(open(filepath))\n",
        "x_test = np.array(dataset[\"x_train\"], dtype=np.float32)\n",
        "y_test = np.array(dataset[\"y_train\"], dtype=np.float32)"
      ],
      "execution_count": 23,
      "outputs": [
        {
          "output_type": "stream",
          "text": [
            "drive/MyDrive/non-blur-data/data/train.json\n"
          ],
          "name": "stdout"
        }
      ]
    },
    {
      "cell_type": "code",
      "metadata": {
        "colab": {
          "base_uri": "https://localhost:8080/"
        },
        "id": "pRrbWaJqu_jR",
        "outputId": "52740365-4f92-4101-a3f2-4407cf3a0578"
      },
      "source": [
        "y_pred = model.predict(x_test, batch_size=2, verbose=1)\n",
        "print(type(y_pred))"
      ],
      "execution_count": 24,
      "outputs": [
        {
          "output_type": "stream",
          "text": [
            "500/500 [==============================] - 29s 59ms/step\n",
            "<class 'numpy.ndarray'>\n"
          ],
          "name": "stdout"
        }
      ]
    },
    {
      "cell_type": "code",
      "metadata": {
        "colab": {
          "base_uri": "https://localhost:8080/",
          "height": 295
        },
        "id": "SmdqJvKEwA2i",
        "outputId": "24e58214-3fd9-4842-e72a-a6cdaa6d776e"
      },
      "source": [
        "from sklearn.metrics import confusion_matrix\n",
        "import seaborn as sns\n",
        "\n",
        "ry_test = []\n",
        "ry_pred = []\n",
        "\n",
        "for tlabel in y_test:\n",
        "  if tlabel>=0.5:\n",
        "    ry_test.append(1)\n",
        "    continue\n",
        "  ry_test.append(0)\n",
        "ry_test = np.array(ry_test)\n",
        "for plabel in y_pred:\n",
        "  if plabel>=0.5:\n",
        "    ry_pred.append(1)\n",
        "    continue\n",
        "  ry_pred.append(0)\n",
        "ry_pred = np.array(ry_pred)\n",
        "\n",
        "classes = list(set(ry_test))\n",
        "classes.sort()\n",
        "confusion = confusion_matrix(ry_pred, ry_test)\n",
        "plt.imshow(confusion, cmap=plt.cm.Blues)\n",
        "indices = range(len(confusion))\n",
        "plt.xticks(indices, classes)\n",
        "plt.yticks(indices, classes)\n",
        "plt.colorbar()\n",
        "plt.xlabel('prediction')\n",
        "plt.ylabel('ground truth')\n",
        "plt.title('confusion matrix')\n",
        "for first_index in range(len(confusion)):\n",
        "  for second_index in range(len(confusion[first_index])):\n",
        "    plt.text(first_index, second_index, confusion[first_index][second_index])\n",
        "\n",
        "plt.show()"
      ],
      "execution_count": 25,
      "outputs": [
        {
          "output_type": "display_data",
          "data": {
            "image/png": "[encoded data removed]",
            "text/plain": [
              "<Figure size 432x288 with 2 Axes>"
            ]
          },
          "metadata": {
            "tags": [],
            "needs_background": "light"
          }
        }
      ]
    }
  ]
}